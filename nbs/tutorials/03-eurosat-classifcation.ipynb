{
 "cells": [
  {
   "cell_type": "raw",
   "id": "9b22d624-d948-4dfc-acaa-d433a3aece49",
   "metadata": {},
   "source": [
    "---\n",
    "skip_exec: true\n",
    "---"
   ]
  },
  {
   "cell_type": "code",
   "execution_count": null,
   "id": "83215260-4881-48fd-ae23-1f2371391224",
   "metadata": {},
   "outputs": [],
   "source": [
    "#| hide\n",
    "# check if in colab and install package as needed\n",
    "![ -e /content ] && ! pip show fastai-torchgeo && pip install git+https://github.com/butchland/fastai-torchgeo.git\n",
    "![ -e /content ] && ! pip show nbdev && pip install nbdev"
   ]
  },
  {
   "cell_type": "markdown",
   "id": "d5dad862-e454-43f8-ba74-4f009524657e",
   "metadata": {},
   "source": [
    "# EuroSAT Land Use/Land Cover (LULC) Classification Tutorial\n",
    "> finetune a torchgeo pretrained resnet model on the torchgeo EuroSAT dataset for LULC"
   ]
  },
  {
   "cell_type": "markdown",
   "id": "c856d507-ba99-4483-a31d-4c62b83527da",
   "metadata": {},
   "source": [
    "[![](https://raw.githubusercontent.com/butchland/fastai-torchgeo/master/assets/colab.svg)](https://colab.research.google.com/github/butchland/fastai-torchgeo/blob/master/nbs/tutorial/03-eurosat-classification.ipynb)"
   ]
  },
  {
   "cell_type": "markdown",
   "id": "be4e342a-c755-4732-ba13-185ba95f9736",
   "metadata": {},
   "source": [
    "This is tutorial on finetuning a [pretrained torchgeo resnet model](https://torchgeo.readthedocs.io/en/stable/api/models.html#resnet) on the [torchgeo EuroSAT dataset](https://torchgeo.readthedocs.io/en/stable/api/datasets.html#eurosat)\n",
    "using the [fastai](https://docs.fast.ai) framework.\n",
    "\n",
    "> Note: this tutorial assumes _some_ familiarity with the fastai deep learning package and will focus on torchgeo integration."
   ]
  },
  {
   "cell_type": "markdown",
   "id": "bf6b9fb2-be15-4f0e-8eb5-4adc4ed1e7f7",
   "metadata": {},
   "source": [
    "## Installation \n",
    "\n",
    "Install the package"
   ]
  },
  {
   "cell_type": "markdown",
   "id": "d134a915-6511-4c41-b737-a90b5c5e4c52",
   "metadata": {},
   "source": [
    "```bash\n",
    "pip install git+https://github.com/butchland/fastai-torchgeo.git\n",
    "```"
   ]
  },
  {
   "cell_type": "markdown",
   "id": "0e1a45da-6e3c-488c-ad2a-8ef0e3703a49",
   "metadata": {},
   "source": [
    "## Import the packages and download the EuroSAT dataset "
   ]
  },
  {
   "cell_type": "code",
   "execution_count": null,
   "id": "44ac6b4b-082b-4f4f-b02d-e02ff76a5857",
   "metadata": {},
   "outputs": [],
   "source": [
    "from torchgeo.datasets import EuroSAT\n",
    "from torchgeo.datamodules import EuroSATDataModule \n",
    "from torchgeo.models import ResNet18_Weights, resnet18\n",
    "\n",
    "import fastai.vision.all as fv\n",
    "\n",
    "from fastai_torchgeo.data import GeoImageBlock\n",
    "from fastai_torchgeo.resnet import make_resnet_model, resnet_split"
   ]
  },
  {
   "cell_type": "markdown",
   "id": "4e9303fb-b877-4b16-b1dc-0b9fe5073444",
   "metadata": {},
   "source": [
    "## Create a fastai datablock and fastai dataloaders  "
   ]
  },
  {
   "cell_type": "code",
   "execution_count": null,
   "id": "b399ceb2-70f1-47ae-aac2-775d7f5ed103",
   "metadata": {},
   "outputs": [],
   "source": [
    "batch_size=64\n",
    "num_workers = fv.defaults.cpus\n",
    "dset_name = 'EuroSAT'"
   ]
  },
  {
   "cell_type": "code",
   "execution_count": null,
   "id": "e74f6847-8af4-4308-b555-c22d6a7a064b",
   "metadata": {},
   "outputs": [],
   "source": [
    "dblock = fv.DataBlock(blocks=(GeoImageBlock(), fv.CategoryBlock()),\n",
    "                      get_items=fv.get_image_files,\n",
    "                      splitter=fv.RandomSplitter(valid_pct=0.2, seed=42),\n",
    "                      get_y=fv.parent_label,\n",
    "                      item_tfms=fv.Resize(64),\n",
    "                      batch_tfms=[fv.Normalize.from_stats(EuroSATDataModule.mean, EuroSATDataModule.std)],\n",
    "                     )"
   ]
  },
  {
   "cell_type": "code",
   "execution_count": null,
   "id": "bc947bac-bf0b-44b6-8a3c-7180c1ee2d91",
   "metadata": {},
   "outputs": [],
   "source": [
    "cfg = fv.fastai_cfg()\n",
    "data_dir = cfg.path('data')\n",
    "dset_path = data_dir/dset_name"
   ]
  },
  {
   "cell_type": "code",
   "execution_count": null,
   "id": "b67f91a1-3467-4bd9-a21d-5fdfd8905a42",
   "metadata": {},
   "outputs": [],
   "source": [
    "datamodule = EuroSATDataModule(root=dset_path,batch_size=batch_size, num_workers=num_workers, download=True)"
   ]
  },
  {
   "cell_type": "code",
   "execution_count": null,
   "id": "6d4281df-977c-4ff1-99df-18437ee54102",
   "metadata": {},
   "outputs": [],
   "source": [
    "%%time\n",
    "datamodule.prepare_data()"
   ]
  },
  {
   "cell_type": "code",
   "execution_count": null,
   "id": "e6501da6-cf9a-43d8-91e7-9a59f38927e5",
   "metadata": {},
   "outputs": [],
   "source": [
    "dblock.summary(dset_path, show_batch=True)"
   ]
  },
  {
   "cell_type": "code",
   "execution_count": null,
   "id": "4cd56a96-dd10-4dd4-8986-f8e89d30206e",
   "metadata": {},
   "outputs": [],
   "source": [
    "dls = dblock.dataloaders(dset_path, bs=batch_size)"
   ]
  },
  {
   "cell_type": "markdown",
   "id": "2b2782dd-b5b5-4a6c-90e5-4bb4be695117",
   "metadata": {},
   "source": [
    "## Download the torchgeo pretrained resnet model and prepare a fastai compatible model"
   ]
  },
  {
   "cell_type": "code",
   "execution_count": null,
   "id": "59f21273-3c6d-4bf1-9598-282abb328ad6",
   "metadata": {},
   "outputs": [],
   "source": [
    "pretrained = resnet18(ResNet18_Weights.SENTINEL2_ALL_MOCO, num_classes=10) # load pretrained weights"
   ]
  },
  {
   "cell_type": "code",
   "execution_count": null,
   "id": "aa2ec289-78e8-4316-be8f-37ce2573a775",
   "metadata": {},
   "outputs": [],
   "source": [
    "model = make_resnet_model(pretrained, n_out=10)"
   ]
  },
  {
   "cell_type": "markdown",
   "id": "0e8083fc-04ee-4c62-b7ab-8d1d2ea5f289",
   "metadata": {},
   "source": [
    "## Create a fastai learner"
   ]
  },
  {
   "cell_type": "code",
   "execution_count": null,
   "id": "e06e61d4-27e5-47e4-bfea-a9693772fc25",
   "metadata": {},
   "outputs": [],
   "source": [
    "learn = fv.Learner(\n",
    "    dls, \n",
    "    model,\n",
    "    loss_func=fv.CrossEntropyLossFlat(),\n",
    "    metrics=[fv.error_rate],\n",
    "    splitter=resnet_split,\n",
    ")\n",
    "# freeze uses parameter groups created by `resnet_split` \n",
    "# to lock parameters of pretrained model except for the model head\n",
    "\n",
    "learn.freeze()"
   ]
  },
  {
   "cell_type": "code",
   "execution_count": null,
   "id": "6369fe2a-4978-40d8-915a-d73c6be0b669",
   "metadata": {},
   "outputs": [],
   "source": [
    "# note: only head parameter group is trainable (except BatchNorm layers w/ch are always trainable)\n",
    "learn.summary()"
   ]
  },
  {
   "cell_type": "markdown",
   "id": "647a7646-1076-4c26-a42f-438c1b3c17e9",
   "metadata": {},
   "source": [
    "## Train the model"
   ]
  },
  {
   "cell_type": "code",
   "execution_count": null,
   "id": "0f8b0b49-8f2d-4986-bbc4-fb6cf15855a1",
   "metadata": {},
   "outputs": [],
   "source": [
    "# learn.lr_find()"
   ]
  },
  {
   "cell_type": "code",
   "execution_count": null,
   "id": "2d2558f4-f520-472e-a0a3-cbc96798cdff",
   "metadata": {},
   "outputs": [],
   "source": [
    "learn.fine_tune(1)"
   ]
  },
  {
   "cell_type": "code",
   "execution_count": null,
   "id": "9c451d5d-4191-4582-a858-b7388eb0da94",
   "metadata": {},
   "outputs": [],
   "source": [
    "from fastai.callback.tracker import SaveModelCallback"
   ]
  },
  {
   "cell_type": "code",
   "execution_count": null,
   "id": "d1dd8afe-238d-4067-9d34-f6978b1dd592",
   "metadata": {},
   "outputs": [],
   "source": [
    "learn.fit_one_cycle(10, lr_max=slice(3e-3, 6e-6), cbs=[SaveModelCallback()])"
   ]
  },
  {
   "cell_type": "markdown",
   "id": "83f9bafd-1145-4343-9776-6b9333a277c3",
   "metadata": {},
   "source": [
    "## Post training (error analysis and setting up for inference)"
   ]
  },
  {
   "cell_type": "code",
   "execution_count": null,
   "id": "054fdebb-ff59-434e-bf94-7c3fa37ad9a8",
   "metadata": {},
   "outputs": [],
   "source": [
    "learn.recorder.plot_loss()"
   ]
  },
  {
   "cell_type": "code",
   "execution_count": null,
   "id": "a6dad6f5-683c-4d13-bb83-eea2f161e874",
   "metadata": {},
   "outputs": [],
   "source": [
    "learn.validate()"
   ]
  },
  {
   "cell_type": "code",
   "execution_count": null,
   "id": "dcccf5d3-8202-4303-8ab5-e3d59a02122f",
   "metadata": {},
   "outputs": [],
   "source": [
    "learn.save('resnet18-finetune-eurosat')"
   ]
  },
  {
   "cell_type": "code",
   "execution_count": null,
   "id": "c981402f-93cd-4ad3-bbf7-62dec8389207",
   "metadata": {},
   "outputs": [],
   "source": [
    "interp = fv.ClassificationInterpretation.from_learner(learn)"
   ]
  },
  {
   "cell_type": "code",
   "execution_count": null,
   "id": "15537d0b-5a10-4093-9fae-1f79ba21d920",
   "metadata": {},
   "outputs": [],
   "source": [
    "interp.plot_confusion_matrix()"
   ]
  },
  {
   "cell_type": "code",
   "execution_count": null,
   "id": "65a802b0-1f45-41a3-ad4e-62cfbedfd81c",
   "metadata": {},
   "outputs": [],
   "source": [
    "interp.plot_top_losses(8)"
   ]
  }
 ],
 "metadata": {
  "kernelspec": {
   "display_name": "python3",
   "language": "python",
   "name": "python3"
  },
  "widgets": {
   "application/vnd.jupyter.widget-state+json": {
    "state": {},
    "version_major": 2,
    "version_minor": 0
   }
  }
 },
 "nbformat": 4,
 "nbformat_minor": 5
}
